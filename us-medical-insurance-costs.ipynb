{
 "cells": [
  {
   "cell_type": "markdown",
   "metadata": {},
   "source": [
    "# U.S. Medical Insurance Costs"
   ]
  },
  {
   "cell_type": "markdown",
   "metadata": {},
   "source": [
    "### Introduction\n",
    "The aim of this project is to analyze an insurance dataset provided by Codecademy. The scope of the project and the analysis methods are of my own choice, therefore I've documented my work further below."
   ]
  },
  {
   "cell_type": "markdown",
   "metadata": {},
   "source": [
    "### Task 1. Looking over my dataset. Scoping the project.\n",
    "\n",
    "Firstly, I'm inspecting the given dataset *insurance.csv*. The file includes comma-separated dataset with 7 different fields: age, sex, bmi, children, smoker, region, charges. There are 1339 lines (or rows), including the header. It looks like the dataset is clean and quite ready for being analysed, although it might need changing some binary strings into ints (for example male/female into 0/1). There are multiple ways to analyse this dataset, but within this project, I will focus on the following:\n",
    "\n",
    "* How many of the subjects are smokers and which gender they are?\n",
    "* Do the smokers tend to live in a certain region?\n",
    "* Does living in a certain region affect having children?\n",
    "* How much is insurance charge influenced by children, bmi, being a smoker and age?\n",
    "\n",
    "These will be the questions I will try to answer on the course of this project."
   ]
  },
  {
   "cell_type": "code",
   "execution_count": 33,
   "metadata": {},
   "outputs": [
    {
     "name": "stdout",
     "output_type": "stream",
     "text": [
      "There are 1338 people in the list. 662 of them females and 676 of them males.\n",
      "The average age is 39.\n",
      "The average bmi is 30.7.\n"
     ]
    }
   ],
   "source": [
    "import csv\n",
    "import matplotlib.pyplot as plt\n",
    "\n",
    "with open('insurance.csv') as insurance_file:\n",
    "    insurance_dict = csv.DictReader(insurance_file)\n",
    "\n",
    "    count_all = 0\n",
    "    total_age = 0\n",
    "    rows = 0\n",
    "    males = 0\n",
    "    females = 0\n",
    "    total_bmi = 0\n",
    "    for row in insurance_dict:\n",
    "     count_all += 1\n",
    "     \n",
    "     age = int(row['age'])\n",
    "     total_age += age\n",
    "     \n",
    "     bmi = float(row['bmi'])\n",
    "     total_bmi += bmi\n",
    "     \n",
    "     rows += 1\n",
    "     if row['sex'] == 'female':\n",
    "          females += 1\n",
    "     else: males += 1 \n",
    "\n",
    "    average_age = round(total_age/rows,None) \n",
    "    average_bmi = round(total_bmi/rows,1)\n",
    "    print('There are ' + str(count_all) + ' people in the list. '+ str(females) + ' of them females and ' + str(males) + ' of them males.')\n",
    "    print('The average age is ' + str(average_age) + '.')\n",
    "    print('The average bmi is ' + str(average_bmi) + '.')\n"
   ]
  },
  {
   "cell_type": "markdown",
   "metadata": {},
   "source": [
    "### Task 2.1. How many of the subjects are smokers and which sex they are?"
   ]
  },
  {
   "cell_type": "code",
   "execution_count": 34,
   "metadata": {},
   "outputs": [
    {
     "name": "stdout",
     "output_type": "stream",
     "text": [
      "There are 274 smokers, which is 20.5 percent of all people in the list.\n"
     ]
    }
   ],
   "source": [
    "def tuples_list(insurance_dict,key1,key2):\n",
    "        returned = []\n",
    "        for row in insurance_dict:\n",
    "            val1 = row[key1]\n",
    "            val2 = row[key2]\n",
    "            returned.append((val1,val2))\n",
    "        return returned\n",
    "\n",
    "with open('insurance.csv') as insurance_file:\n",
    "    insurance_dict = csv.DictReader(insurance_file)\n",
    "    \n",
    "    smoker_sex = tuples_list(insurance_dict,'smoker','sex')\n",
    "\n",
    "smokers_sex = []\n",
    "smokers_count = 0\n",
    "for person in smoker_sex:\n",
    "     if person[0] == 'yes':\n",
    "        smokers_sex.append(person[1])\n",
    "        smokers_count += 1\n",
    "\n",
    "smokers_percent = round(float(smokers_count/count_all * 100),1)\n",
    "#print(smokers_sex)\n",
    "print('There are ' + str(smokers_count) + ' smokers, which is ' + str(smokers_percent) + ' percent of all people in the list.')"
   ]
  },
  {
   "cell_type": "code",
   "execution_count": 35,
   "metadata": {},
   "outputs": [
    {
     "data": {
      "image/png": "[encoded data removed]",
      "text/plain": [
       "<Figure size 640x480 with 1 Axes>"
      ]
     },
     "metadata": {},
     "output_type": "display_data"
    },
    {
     "name": "stdout",
     "output_type": "stream",
     "text": [
      "In summary: \n",
      "There are 1338 people in the insurance list.\n",
      "There are 274 smokers, which is 20.5 percent of all people in the list.\n",
      "There are 1064 non-smokers.\n",
      "There are 115 female smokers and 159 male smokers.\n"
     ]
    }
   ],
   "source": [
    "female_smokers = 0\n",
    "male_smokers = 0\n",
    "non_smokers = count_all - smokers_count\n",
    "\n",
    "for sex in smokers_sex:\n",
    "    if sex == 'female':\n",
    "        female_smokers += 1\n",
    "    else:\n",
    "        male_smokers += 1\n",
    "#print(female_smokers,male_smokers)\n",
    "\n",
    "x_labels = ['Female smokers','Male smokers','Non-smokers']\n",
    "x_positions = range(len(x_labels))\n",
    "\n",
    "plt.bar(x_positions[0],female_smokers, width=0.30, label='Female smokers', color='pink')\n",
    "plt.bar(x_positions[1], male_smokers, width=0.30, label='Male smokers', color='lightblue')\n",
    "plt.bar(x_positions[2],non_smokers,width=0.30, label='Non-smokers', color='grey')\n",
    "\n",
    "plt.ylabel('Count')\n",
    "plt.title('Smokers by sex')\n",
    "plt.xticks(x_positions, x_labels)\n",
    "\n",
    "# Add numbers on top of the columns\n",
    "plt.text(x_positions[0], female_smokers, str(female_smokers), ha='center', va='bottom', fontsize=10)\n",
    "plt.text(x_positions[1], male_smokers, str(male_smokers), ha='center', va='bottom', fontsize=10)\n",
    "plt.text(x_positions[2], non_smokers, str(non_smokers), ha='center', va='bottom', fontsize=10)\n",
    "\n",
    "plt.legend()\n",
    "plt.show()\n",
    "\n",
    "print('In summary: \\nThere are ' + str(count_all) + ' people in the insurance list.\\nThere are ' + str(smokers_count) + ' smokers, which is ' + str(smokers_percent) + ' percent of all people in the list.\\nThere are ' \n",
    "      + str(non_smokers) + ' non-smokers.\\nThere are ' + str(female_smokers) + ' female smokers and ' + str(male_smokers) + ' male smokers.')"
   ]
  },
  {
   "cell_type": "markdown",
   "metadata": {},
   "source": [
    "### Task 2.2. Do smokers tend to live in a certain region?"
   ]
  },
  {
   "cell_type": "code",
   "execution_count": 36,
   "metadata": {},
   "outputs": [
    {
     "data": {
      "image/png": "[encoded data removed]",
      "text/plain": [
       "<Figure size 640x480 with 1 Axes>"
      ]
     },
     "metadata": {},
     "output_type": "display_data"
    }
   ],
   "source": [
    "with open('insurance.csv') as insurance_file:\n",
    "    insurance_dict = csv.DictReader(insurance_file)\n",
    "\n",
    "    smoker_region = tuples_list(insurance_dict,'smoker','region')\n",
    "    #print(smoker_region)\n",
    "\n",
    "southeast_smokers = 0\n",
    "southeast_nonsmokers = 0\n",
    "\n",
    "southwest_smokers = 0\n",
    "southwest_nonsmokers = 0\n",
    "\n",
    "northeast_smokers = 0\n",
    "northeast_nonsmokers = 0\n",
    "\n",
    "northwest_smokers = 0\n",
    "northwest_nonsmokers = 0\n",
    "\n",
    "for person in smoker_region:\n",
    "    if person[1] == 'southeast':\n",
    "        if person[0] == 'yes':\n",
    "            southeast_smokers += 1\n",
    "        else: southeast_nonsmokers += 1\n",
    "    elif person[1] == 'southwest':\n",
    "        if person[0] == 'yes':\n",
    "            southwest_smokers += 1\n",
    "        else: southwest_nonsmokers += 1\n",
    "    elif person[1] == 'northeast':\n",
    "        if person[0] == 'yes':\n",
    "            northeast_smokers += 1\n",
    "        else: northeast_nonsmokers += 1\n",
    "    else:\n",
    "        if person[0] == 'yes':\n",
    "            northwest_smokers += 1\n",
    "        else: northwest_nonsmokers += 1\n",
    "\n",
    "regions = ['Southeast', 'Southwest', 'Northeast', 'Northwest']\n",
    "x_positions = range(len(regions))\n",
    "\n",
    "# Width of the columns\n",
    "bar_width = 0.35\n",
    "\n",
    "# Create the bar plot for Southeast region\n",
    "plt.bar(x_positions, [southeast_smokers, southwest_smokers, northeast_smokers, northwest_smokers],\n",
    "        width=bar_width, label='Smokers', color='black')\n",
    "\n",
    "# Create the bar plot for Southeast region, shifting the bars to the right\n",
    "plt.bar(x_positions, [southeast_nonsmokers, southwest_nonsmokers, northeast_nonsmokers, northwest_nonsmokers],\n",
    "        width=bar_width, bottom=[southeast_smokers, southwest_smokers, northeast_smokers, northwest_smokers],\n",
    "        label='Non-Smokers', color='gray')\n",
    "\n",
    "plt.ylabel('Count')\n",
    "plt.title('Smokers vs Non-Smokers by Region')\n",
    "plt.xticks(x_positions, regions)  # Set the x-axis labels to the regions\n",
    "plt.legend(title='Smoker/Nonsmoker', loc='upper right', bbox_to_anchor=(1.3, 1))\n",
    "\n",
    "\n",
    "plt.show()\n"
   ]
  },
  {
   "cell_type": "code",
   "execution_count": 37,
   "metadata": {},
   "outputs": [
    {
     "name": "stdout",
     "output_type": "stream",
     "text": [
      "20.7 percent of residents are smokers in the northeast region.\n",
      "17.8 percent of residents are smokers in the northwest region.\n",
      "25.0 percent of residents are smokers in the southeast region.\n",
      "17.8 percent of residents are smokers in the southwest region.\n"
     ]
    }
   ],
   "source": [
    "def smokers_percent(region_smokers,region_nonsmokers,region):\n",
    "    total_smokers=region_smokers+region_nonsmokers\n",
    "    percent = round(region_smokers*100/total_smokers,1)\n",
    "    return print(str(percent) + ' percent of residents are smokers in the '+ region + ' region.')\n",
    "\n",
    "northeast_percent = smokers_percent(northeast_smokers,northeast_nonsmokers,'northeast')\n",
    "northwest_percent = smokers_percent(northwest_smokers,northwest_nonsmokers,'northwest')\n",
    "southeast_percent = smokers_percent(southeast_smokers,southeast_nonsmokers,'southeast')\n",
    "southwest_percent = smokers_percent(southwest_smokers,southwest_nonsmokers,'southwest')\n",
    "    "
   ]
  },
  {
   "cell_type": "markdown",
   "metadata": {},
   "source": [
    "### Task 2.3. Does living in a certain region affect having children?"
   ]
  },
  {
   "cell_type": "code",
   "execution_count": 38,
   "metadata": {},
   "outputs": [
    {
     "name": "stdout",
     "output_type": "stream",
     "text": [
      "45.4 percent of residents have 1 or more children in the northeast region.\n",
      "40.6 percent of residents have 1 or more children in the northwest region.\n",
      "43.1 percent of residents have 1 or more children in the southeast region.\n",
      "42.5 percent of residents have 1 or more children in the southwest region.\n"
     ]
    }
   ],
   "source": [
    "with open('insurance.csv') as insurance_file:\n",
    "    insurance_dict = csv.DictReader(insurance_file)\n",
    "\n",
    "    region_children = tuples_list(insurance_dict,'region','children')\n",
    "    #print(region_children)\n",
    "\n",
    "northeast_no_children = 0\n",
    "northeast_count = 0\n",
    "\n",
    "northwest_no_children = 0\n",
    "northwest_count = 0\n",
    "\n",
    "southeast_no_children = 0\n",
    "southeast_count = 0\n",
    "\n",
    "southwest_no_children = 0\n",
    "southwest_count = 0\n",
    "\n",
    "for person in region_children:\n",
    "    if person[0] == 'northeast':\n",
    "        northeast_count += 1\n",
    "        if person[1] == '0':\n",
    "            northeast_no_children += 1\n",
    "    elif person[0] == 'northwest':\n",
    "        northwest_count += 1\n",
    "        if person[1] == '0':\n",
    "            northwest_no_children += 1\n",
    "    elif person[0] == 'southeast':\n",
    "        southeast_count += 1\n",
    "        if person[1] == '0':\n",
    "            southeast_no_children += 1\n",
    "    else:\n",
    "        southwest_count += 1\n",
    "        if person[1] =='0':\n",
    "            southwest_no_children += 1\n",
    "\n",
    "def smokers_percent(region_count,region_no_children,region):\n",
    "    percent = round(region_no_children*100/region_count,1)\n",
    "    return print(str(percent) + ' percent of residents have 1 or more children in the '+ region + ' region.')\n",
    "\n",
    "northeast_percent = smokers_percent(northeast_count,northeast_no_children,'northeast')\n",
    "northwest_percent = smokers_percent(northwest_count,northwest_no_children,'northwest')\n",
    "southeast_percent = smokers_percent(southeast_count,southeast_no_children,'southeast')\n",
    "southwest_percent = smokers_percent(southwest_count,southwest_no_children,'southwest')"
   ]
  },
  {
   "cell_type": "markdown",
   "metadata": {},
   "source": [
    "### Task 2.4. How much is insurance charge influenced by children, bmi, being a smoker and age?"
   ]
  },
  {
   "cell_type": "markdown",
   "metadata": {},
   "source": [
    "How is insurance charge infulenced by all of these separate factors? Even though I couldn't construct an ideal analysis, I could tackle this in a way that could give me an indication. At first I need to find at least one person in this dataset, who is not influenced by all of the contributing factors in this dataset. That would be a person who:\n",
    "* has no children,\n",
    "* doesn't smoke,\n",
    "* has a bmi in the range of 18.5-24.9 (normal weight),\n",
    "* is 18 years of age.\n",
    "\n",
    "When it comes to age, I have considered age to be a variable that affects insurance costs in a linear fashion. The higher the age number, the more the insurance costs. I will compare the insurance costs for age groups of 18-29, 30-39, 40-49, 50-59, 60-69 and >= 70.\n",
    "Also for the sake of simplicity, I will leave out sex as a contributor for now."
   ]
  },
  {
   "cell_type": "code",
   "execution_count": 39,
   "metadata": {},
   "outputs": [
    {
     "name": "stdout",
     "output_type": "stream",
     "text": [
      "The default insurance cost is 1591 dollars.\n"
     ]
    }
   ],
   "source": [
    "with open('insurance.csv') as insurance_file:\n",
    "    reader = csv.DictReader(insurance_file)\n",
    "    insurance_list = [row for row in reader]\n",
    "\n",
    "#print(insurance_list)\n",
    "\n",
    "default_list = []\n",
    "for person in insurance_list:\n",
    "    if (person['children'] == '0' and\n",
    "        person['smoker'] == 'no' and\n",
    "        18.5 <= float(person['bmi']) <= 24.9 and\n",
    "        person['age'] == '18'):\n",
    "        default_list.append(person)\n",
    "\n",
    "#print(default_list)\n",
    "\n",
    "total_insurance_cost = 0\n",
    "for person in default_list:\n",
    "    insurance_cost = float(person['charges'])\n",
    "    total_insurance_cost += insurance_cost\n",
    "\n",
    "default_insurance_cost = round(total_insurance_cost/len(default_list))\n",
    "\n",
    "print('The default insurance cost is ' + str(default_insurance_cost) + ' dollars.')\n",
    "    "
   ]
  }
 ],
 "metadata": {
  "kernelspec": {
   "display_name": "Python 3",
   "language": "python",
   "name": "python3"
  },
  "language_info": {
   "codemirror_mode": {
    "name": "ipython",
    "version": 3
   },
   "file_extension": ".py",
   "mimetype": "text/x-python",
   "name": "python",
   "nbconvert_exporter": "python",
   "pygments_lexer": "ipython3",
   "version": "3.11.1"
  }
 },
 "nbformat": 4,
 "nbformat_minor": 4
}
